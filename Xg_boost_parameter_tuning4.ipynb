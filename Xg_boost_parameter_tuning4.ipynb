{
 "cells": [
  {
   "cell_type": "markdown",
   "metadata": {},
   "source": [
    "### XGBOOST (Grid_Search- Parameter tuning)"
   ]
  },
  {
   "cell_type": "code",
   "execution_count": 1,
   "metadata": {},
   "outputs": [],
   "source": [
    "#Tunning for number of trees\n",
    "from pandas import read_csv\n",
    "from xgboost import XGBClassifier\n",
    "from sklearn.model_selection import StratifiedKFold\n",
    "from sklearn.model_selection import GridSearchCV\n",
    "from sklearn.preprocessing import LabelEncoder\n",
    "import matplotlib \n",
    "matplotlib.use('Agg')\n",
    "from matplotlib import pyplot\n",
    "#Otto dataset "
   ]
  },
  {
   "cell_type": "code",
   "execution_count": 2,
   "metadata": {
    "scrolled": true
   },
   "outputs": [],
   "source": [
    "#Load data Otto dataset \n",
    "data = read_csv('train.csv')\n",
    "dataset = data.values\n",
    "#data.head() split data into X and y\n",
    "X = dataset[:,0:94]\n",
    "y = dataset[:,94]\n",
    "#encoding y\n",
    "label_encoder_y = LabelEncoder().fit_transform(y)\n",
    "#grid_search"
   ]
  },
  {
   "cell_type": "code",
   "execution_count": 4,
   "metadata": {},
   "outputs": [
    {
     "data": {
      "text/plain": [
       "array([0, 0, 0, ..., 8, 8, 8])"
      ]
     },
     "execution_count": 4,
     "metadata": {},
     "output_type": "execute_result"
    }
   ],
   "source": [
    "label_encoder_y"
   ]
  },
  {
   "cell_type": "code",
   "execution_count": 5,
   "metadata": {},
   "outputs": [],
   "source": [
    "model =XGBClassifier()\n",
    "n_estimators = range(50,400,50)"
   ]
  },
  {
   "cell_type": "code",
   "execution_count": 6,
   "metadata": {},
   "outputs": [],
   "source": [
    "param_grid = dict(n_estimators=n_estimators)\n",
    "kfold = StratifiedKFold(n_splits=10,shuffle=True, random_state=7)\n",
    "grid_search = GridSearchCV(model, param_grid, scoring=\"neg_log_loss\", n_jobs=-1,cv=kfold)\n",
    "grid_result = grid_search.fit(X,label_encoder_y)"
   ]
  },
  {
   "cell_type": "code",
   "execution_count": 7,
   "metadata": {},
   "outputs": [
    {
     "name": "stdout",
     "output_type": "stream",
     "text": [
      "Best: -0.001169 using {'n_estimators': 250}\n"
     ]
    }
   ],
   "source": [
    "#summarize\n",
    "print(\"Best: %f using %s\"%(grid_result.best_score_,grid_result.best_params_))"
   ]
  },
  {
   "cell_type": "code",
   "execution_count": 8,
   "metadata": {},
   "outputs": [
    {
     "name": "stdout",
     "output_type": "stream",
     "text": [
      "-0.011005(0.000648) with {'n_estimators': 50}\n",
      "-0.001258(0.001116) with {'n_estimators': 100}\n",
      "-0.001180(0.001107) with {'n_estimators': 150}\n",
      "-0.001170(0.001097) with {'n_estimators': 200}\n",
      "-0.001169(0.001097) with {'n_estimators': 250}\n",
      "-0.001169(0.001098) with {'n_estimators': 300}\n",
      "-0.001170(0.001098) with {'n_estimators': 350}\n"
     ]
    }
   ],
   "source": [
    "means = grid_result.cv_results_['mean_test_score']\n",
    "stds = grid_result.cv_results_['std_test_score']\n",
    "params = grid_result.cv_results_['params']\n",
    "for mean, stdev, param in zip(means, stds, params):\n",
    "    print(\"%f(%f) with %r\" %(mean, stdev,param))"
   ]
  },
  {
   "cell_type": "code",
   "execution_count": 16,
   "metadata": {},
   "outputs": [
    {
     "data": {
      "text/plain": [
       "Text(13.597222222222216, 0.5, 'Log loss')"
      ]
     },
     "execution_count": 16,
     "metadata": {},
     "output_type": "execute_result"
    }
   ],
   "source": [
    "#plot\n",
    "pyplot.errorbar(n_estimators,means,yerr=stds)\n",
    "pyplot.title(\"XGBoost n_estimators Vs Log loss\")\n",
    "pyplot.xlabel('n_estimators')\n",
    "pyplot.ylabel('Log loss')\n",
    "#pyplot.savefig('n_estimators.png')\n",
    "#pyplot.show()"
   ]
  },
  {
   "cell_type": "code",
   "execution_count": null,
   "metadata": {},
   "outputs": [],
   "source": [
    "#no of tress\n",
    "#Tree max depth\n",
    "#n_estimators "
   ]
  }
 ],
 "metadata": {
  "kernelspec": {
   "display_name": "Python 3",
   "language": "python",
   "name": "python3"
  },
  "language_info": {
   "codemirror_mode": {
    "name": "ipython",
    "version": 3
   },
   "file_extension": ".py",
   "mimetype": "text/x-python",
   "name": "python",
   "nbconvert_exporter": "python",
   "pygments_lexer": "ipython3",
   "version": "3.6.8"
  }
 },
 "nbformat": 4,
 "nbformat_minor": 2
}

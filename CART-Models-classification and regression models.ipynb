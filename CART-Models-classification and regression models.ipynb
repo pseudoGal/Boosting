{
 "cells": [
  {
   "cell_type": "code",
   "execution_count": 1,
   "metadata": {},
   "outputs": [
    {
     "name": "stdout",
     "output_type": "stream",
     "text": [
      "DecionTreeRegressor: mean: -25.370356, std: 11.705399 \n",
      "KNeighborsRegressor: mean: -38.852320, std: 14.660693 \n",
      "SVR: mean:-38.852320, std: 14.660693\n"
     ]
    }
   ],
   "source": [
    "#CART - Models for Regression Analysis\n",
    "from pandas import read_csv\n",
    "from sklearn.model_selection import KFold\n",
    "from sklearn.neighbors import KNeighborsRegressor\n",
    "from sklearn.tree import DecisionTreeRegressor\n",
    "from sklearn.svm import SVR \n",
    "from sklearn.discriminant_analysis import LinearDiscriminantAnalysis \n",
    "from sklearn.model_selection import cross_val_score\n",
    "\n",
    "filename='housing.csv'\n",
    "names=['CRIM','ZN','INDUS','CHAS','NOX','RM','AGE','DIS','RAD','TAX','PTRATIO','B','LSTAT','MEDV']\n",
    "dataframe=read_csv(filename, delim_whitespace=True,names=names)\n",
    "temp=dataframe.values\n",
    "X = temp[:,0:13]\n",
    "y = temp[:,13]\n",
    "#split the data using cv\n",
    "kfold = KFold(n_splits=10,shuffle=True, random_state=7)\n",
    "#apply model\n",
    "model1 =DecisionTreeRegressor()\n",
    "model2 =KNeighborsRegressor()\n",
    "model3 =SVR(gamma='auto')\n",
    "#evalute score\n",
    "scoring='neg_mean_squared_error'\n",
    "results1 = cross_val_score(model1,X,y,cv=kfold,scoring=scoring)\n",
    "results2 = cross_val_score(model2,X,y,cv=kfold,scoring=scoring)\n",
    "results3 = cross_val_score(model3, X,y,cv=kfold,scoring=scoring)\n",
    "print(\"DecionTreeRegressor: mean: %f, std: %f \" %(results1.mean(),results1.std()))\n",
    "#print()\n",
    "print(\"KNeighborsRegressor: mean: %f, std: %f \"%(results2.mean(),results2.std()))\n",
    "print(\"SVR: mean:%f, std: %f\" %(results2.mean(),results2.std()))\n"
   ]
  },
  {
   "cell_type": "code",
   "execution_count": null,
   "metadata": {},
   "outputs": [],
   "source": []
  }
 ],
 "metadata": {
  "kernelspec": {
   "display_name": "Python 3",
   "language": "python",
   "name": "python3"
  },
  "language_info": {
   "codemirror_mode": {
    "name": "ipython",
    "version": 3
   },
   "file_extension": ".py",
   "mimetype": "text/x-python",
   "name": "python",
   "nbconvert_exporter": "python",
   "pygments_lexer": "ipython3",
   "version": "3.6.8"
  }
 },
 "nbformat": 4,
 "nbformat_minor": 2
}
